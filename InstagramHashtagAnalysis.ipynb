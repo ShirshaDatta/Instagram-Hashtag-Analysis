{
 "cells": [
  {
   "cell_type": "code",
   "execution_count": 3,
   "metadata": {
    "scrolled": true
   },
   "outputs": [],
   "source": [
    "from selenium import webdriver\n",
    "from bs4 import BeautifulSoup\n",
    "import pandas as pd\n",
    "import datetime"
   ]
  },
  {
   "cell_type": "code",
   "execution_count": 5,
   "metadata": {},
   "outputs": [
    {
     "name": "stderr",
     "output_type": "stream",
     "text": [
      "[WDM] - Current google-chrome version is 86.0.4240\n",
      "[WDM] - Get LATEST driver version for 86.0.4240\n"
     ]
    },
    {
     "name": "stdout",
     "output_type": "stream",
     "text": [
      " \n"
     ]
    },
    {
     "name": "stderr",
     "output_type": "stream",
     "text": [
      "[WDM] - There is no [win32] chromedriver for browser 86.0.4240 in cache\n",
      "[WDM] - Get LATEST driver version for 86.0.4240\n",
      "[WDM] - Trying to download new driver from http://chromedriver.storage.googleapis.com/86.0.4240.22/chromedriver_win32.zip\n",
      "[WDM] - Driver has been saved in cache [C:\\Users\\hp\\.wdm\\drivers\\chromedriver\\win32\\86.0.4240.22]\n"
     ]
    }
   ],
   "source": [
    "from webdriver_manager.chrome import ChromeDriverManager\n",
    "driver = webdriver.Chrome(ChromeDriverManager().install())"
   ]
  },
  {
   "cell_type": "code",
   "execution_count": 7,
   "metadata": {},
   "outputs": [
    {
     "name": "stdout",
     "output_type": "stream",
     "text": [
      "['dividendstocks', 'dividends', 'dividendsm', 'indianstocks', 'indianstockmarket', 'investor', 'stocksignals', 'stockstrader', 'entrepreneurlife', 'nifty', 'niftyfifty', 'zerodha', 'investment', 'dalalstreet', 'buissnessmindset', 'thelocaltrader']\n"
     ]
    }
   ],
   "source": [
    "# Extract description of a post from Instagram link\n",
    "driver.get('https://www.instagram.com/p/B4SY4cNgt8R/')\n",
    "soup = BeautifulSoup(driver.page_source,\"lxml\")\n",
    "desc = \" \"\n",
    " \n",
    "for item in soup.findAll('a'):\n",
    "    desc= desc + \" \" + str(item.string)\n",
    " \n",
    "# Extract tag list from Instagram post description\n",
    "taglist = desc.split()\n",
    "taglist = [x for x in taglist if x.startswith('#')]\n",
    "index = 0\n",
    "while index < len(taglist):\n",
    "    taglist[index] = taglist[index].strip('#')\n",
    "    index += 1\n",
    " \n",
    "print(taglist)"
   ]
  },
  {
   "cell_type": "code",
   "execution_count": 8,
   "metadata": {
    "scrolled": true
   },
   "outputs": [
    {
     "name": "stdout",
     "output_type": "stream",
     "text": [
      "ok\n",
      "              Hashtag Number of Posts Posting Freq (mins)\n",
      "0      dividendstocks          78,453                   0\n",
      "1           dividends         132,557                   0\n",
      "2          dividendsm         132,557                   0\n",
      "3        indianstocks          21,663                   3\n",
      "4   indianstockmarket         123,069                   0\n",
      "5            investor       6,769,178                   0\n",
      "6        stocksignals          24,802                   0\n",
      "7        stockstrader          66,990                   0\n",
      "8    entrepreneurlife      15,123,823                   0\n",
      "9               nifty         346,452                   0\n",
      "10         niftyfifty         444,653                   0\n",
      "11            zerodha          46,631                   0\n",
      "12         investment      13,806,575                   0\n",
      "13        dalalstreet          84,793                   3\n",
      "14   buissnessmindset           1,976                   0\n",
      "15     thelocaltrader             300                   3\n"
     ]
    }
   ],
   "source": [
    "# Define dataframe to store hashtag information\n",
    "tag_df  = pd.DataFrame(columns = ['Hashtag', 'Number of Posts','Posting Freq (mins)'])\n",
    " \n",
    "# Loop over each hashtag to extract information\n",
    "for tag in taglist:\n",
    "     \n",
    "    driver.get('https://www.instagram.com/explore/tags/'+str(tag))\n",
    "    soup = BeautifulSoup(driver.page_source,\"lxml\")\n",
    "     \n",
    "    # Extract current hashtag name\n",
    "    tagname = tag\n",
    "    # Extract total number of posts in this hashtag\n",
    "    # NOTE: Class name may change in the website code\n",
    "    # Get the latest class name by inspecting web code\n",
    "    try:\n",
    "        nposts = soup.find('span', {'class': 'g47SY'}).get_text()\n",
    "    except AttributeError:\n",
    "        print(\"ok\")\n",
    "         \n",
    "    # Extract all post links from 'explore tags' page\n",
    "    # Needed to extract post frequency of recent posts\n",
    "    myli = []\n",
    "    for a in soup.find_all('a', href=True):\n",
    "        myli.append(a['href'])\n",
    " \n",
    "    # Keep link of only 1st and 9th most recent post \n",
    "    newmyli = [x for x in myli if x.startswith('/p/')]\n",
    "    del newmyli[:9]\n",
    "    del newmyli[9:]\n",
    "    del newmyli[1:8]\n",
    "    \n",
    "    timediff = []\n",
    " \n",
    "    # Extract the posting time of 1st and 9th most recent post for a tag\n",
    "    for j in range(len(newmyli)):\n",
    "        driver.get('https://www.instagram.com'+str(newmyli[j]))\n",
    "        soup = BeautifulSoup(driver.page_source,\"lxml\")\n",
    " \n",
    "        for i in soup.findAll('time'):\n",
    "            if i.has_attr('datetime'):\n",
    "                timediff.append(i['datetime'])\n",
    "                #print(timediff)\n",
    "                \n",
    "        # Calculate time difference between posts\n",
    "        # For obtaining posting frequency\n",
    "        datetimeFormat = '%Y-%m-%dT%H:%M:%S.%fZ'\n",
    "        date1 = timediff[1]\n",
    "        date2 = timediff[0]\n",
    "        diff = datetime.datetime.strptime(date1, datetimeFormat)\\\n",
    "        - datetime.datetime.strptime(date2, datetimeFormat)\n",
    "        pfreq= int(diff.total_seconds()/(9*60))\n",
    "\n",
    "     \n",
    "    # Add hashtag info to dataframe\n",
    "    tag_df.loc[len(tag_df)] = [tagname, nposts,pfreq]\n",
    "    \n",
    "# Check the final dataframe\n",
    "print(tag_df)\n",
    " \n",
    "# CSV output for hashtag analysis\n",
    "tag_df.to_csv('hashtag_list.csv')"
   ]
  },
  {
   "cell_type": "code",
   "execution_count": null,
   "metadata": {},
   "outputs": [],
   "source": []
  },
  {
   "cell_type": "code",
   "execution_count": null,
   "metadata": {},
   "outputs": [],
   "source": []
  },
  {
   "cell_type": "code",
   "execution_count": null,
   "metadata": {},
   "outputs": [],
   "source": []
  }
 ],
 "metadata": {
  "kernelspec": {
   "display_name": "Python 3",
   "language": "python",
   "name": "python3"
  },
  "language_info": {
   "codemirror_mode": {
    "name": "ipython",
    "version": 3
   },
   "file_extension": ".py",
   "mimetype": "text/x-python",
   "name": "python",
   "nbconvert_exporter": "python",
   "pygments_lexer": "ipython3",
   "version": "3.8.3"
  }
 },
 "nbformat": 4,
 "nbformat_minor": 2
}
